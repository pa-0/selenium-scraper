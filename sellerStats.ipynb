{
 "cells": [
  {
   "cell_type": "code",
   "execution_count": 1,
   "metadata": {},
   "outputs": [],
   "source": [
    "from selenium import webdriver\n",
    "from selenium.webdriver.chrome.service import Service\n",
    "from selenium.webdriver.common.by import By\n",
    "from time import sleep\n",
    "import csv\n",
    "\n",
    "from dotenv import load_dotenv\n",
    "import os\n",
    "load_dotenv()\n",
    "sellerStatsUser = os.getenv(\"sellerStatsUser\")\n",
    "sellerStatsPass = os.getenv(\"sellerStatsPass\")\n",
    "\n",
    "DRIVER_PATH = '/Users/alireza/Documents/Tools/chromedriver'\n",
    "USD_EUR_RATE = 0.99\n",
    "service = Service(DRIVER_PATH)\n",
    "driver = webdriver.Chrome(service=service)\n"
   ]
  },
  {
   "cell_type": "code",
   "execution_count": 2,
   "metadata": {},
   "outputs": [],
   "source": [
    "# login to sellerstats\n",
    "driver.get('https://sellerstats.ru/login/')\n",
    "login = driver.find_element(By.CSS_SELECTOR, '#id_username')\n",
    "login.send_keys(sellerStatsUser)\n",
    "password = driver.find_element(By.CSS_SELECTOR, '#id_password')\n",
    "password.send_keys(sellerStatsPass)\n",
    "login_button = driver.find_element(By.CSS_SELECTOR, 'button.btn.btn-primary')\n",
    "login_button.click()"
   ]
  },
  {
   "cell_type": "code",
   "execution_count": 13,
   "metadata": {},
   "outputs": [],
   "source": [
    "# download an item function\n",
    "def downloadItem():\n",
    "    driver.find_element(By.CSS_SELECTOR, 'ul[id=help_button_download] a.dropdown-toggle').click()\n",
    "    sleep(1)\n",
    "    driver.find_element(By.CSS_SELECTOR, 'a[data-value=\"csv_all\"]').click()\n",
    "    print('Downloaded')"
   ]
  },
  {
   "cell_type": "code",
   "execution_count": 3,
   "metadata": {},
   "outputs": [],
   "source": [
    "# go to product page\n",
    "driver.get('https://sellerstats.ru/stat/products')"
   ]
  },
  {
   "cell_type": "code",
   "execution_count": 4,
   "metadata": {},
   "outputs": [
    {
     "name": "stdout",
     "output_type": "stream",
     "text": [
      "ids: \n",
      "6170053\n",
      "39769256\n",
      "66070237\n",
      "46289641\n",
      "126168065\n",
      "15334429\n",
      "115119681\n",
      "13027283\n",
      "114714657\n",
      "46289640\n",
      "103846131\n",
      "116872733\n",
      "116872732\n",
      "119286869\n",
      "114555640\n"
     ]
    }
   ],
   "source": [
    "# scan all ids in product list\n",
    "sleep(1)\n",
    "ids = driver.find_elements(By.CSS_SELECTOR, 'div[col-id=\"article\"] div.ag-cell-wrapper span.ag-cell-value a')\n",
    "print('ids: ')\n",
    "for item in ids:\n",
    "    print(item.text)"
   ]
  },
  {
   "cell_type": "code",
   "execution_count": 14,
   "metadata": {},
   "outputs": [
    {
     "ename": "StaleElementReferenceException",
     "evalue": "Message: stale element reference: element is not attached to the page document\n  (Session info: chrome=108.0.5359.98)\nStacktrace:\n0   chromedriver                        0x0000000100a83b7c chromedriver + 4209532\n1   chromedriver                        0x0000000100a0f418 chromedriver + 3732504\n2   chromedriver                        0x00000001006c2368 chromedriver + 271208\n3   chromedriver                        0x00000001006c5ee4 chromedriver + 286436\n4   chromedriver                        0x00000001006c5c54 chromedriver + 285780\n5   chromedriver                        0x00000001006c5fb0 chromedriver + 286640\n6   chromedriver                        0x00000001006f75fc chromedriver + 488956\n7   chromedriver                        0x00000001006f1dec chromedriver + 466412\n8   chromedriver                        0x0000000100735804 chromedriver + 743428\n9   chromedriver                        0x00000001006f059c chromedriver + 460188\n10  chromedriver                        0x00000001006f1644 chromedriver + 464452\n11  chromedriver                        0x0000000100a5530c chromedriver + 4018956\n12  chromedriver                        0x0000000100a58fd8 chromedriver + 4034520\n13  chromedriver                        0x0000000100a5f11c chromedriver + 4059420\n14  chromedriver                        0x0000000100a59bac chromedriver + 4037548\n15  chromedriver                        0x0000000100a33bb0 chromedriver + 3881904\n16  chromedriver                        0x0000000100a76120 chromedriver + 4153632\n17  chromedriver                        0x0000000100a76274 chromedriver + 4153972\n18  chromedriver                        0x0000000100a8a82c chromedriver + 4237356\n19  libsystem_pthread.dylib             0x00000001b49e606c _pthread_start + 148\n20  libsystem_pthread.dylib             0x00000001b49e0e2c thread_start + 8\n",
     "output_type": "error",
     "traceback": [
      "\u001b[0;31m---------------------------------------------------------------------------\u001b[0m",
      "\u001b[0;31mStaleElementReferenceException\u001b[0m            Traceback (most recent call last)",
      "Cell \u001b[0;32mIn[14], line 3\u001b[0m\n\u001b[1;32m      1\u001b[0m \u001b[39m# open each item and download\u001b[39;00m\n\u001b[1;32m      2\u001b[0m \u001b[39mfor\u001b[39;00m item \u001b[39min\u001b[39;00m ids:\n\u001b[0;32m----> 3\u001b[0m     \u001b[39mprint\u001b[39m(item\u001b[39m.\u001b[39;49mtext)\n\u001b[1;32m      4\u001b[0m     driver\u001b[39m.\u001b[39mget(\u001b[39m'\u001b[39m\u001b[39mhttps://sellerstats.ru/stat/product/wb/\u001b[39m\u001b[39m'\u001b[39m\u001b[39m+\u001b[39m item\u001b[39m.\u001b[39mtext \u001b[39m+\u001b[39m\u001b[39m'\u001b[39m\u001b[39m/daily/\u001b[39m\u001b[39m'\u001b[39m)\n\u001b[1;32m      5\u001b[0m     downloadItem()\n",
      "File \u001b[0;32m~/Documents/Codes/Scrapers/env/lib/python3.9/site-packages/selenium/webdriver/remote/webelement.py:84\u001b[0m, in \u001b[0;36mWebElement.text\u001b[0;34m(self)\u001b[0m\n\u001b[1;32m     81\u001b[0m \u001b[39m@property\u001b[39m\n\u001b[1;32m     82\u001b[0m \u001b[39mdef\u001b[39;00m \u001b[39mtext\u001b[39m(\u001b[39mself\u001b[39m) \u001b[39m-\u001b[39m\u001b[39m>\u001b[39m \u001b[39mstr\u001b[39m:\n\u001b[1;32m     83\u001b[0m     \u001b[39m\"\"\"The text of the element.\"\"\"\u001b[39;00m\n\u001b[0;32m---> 84\u001b[0m     \u001b[39mreturn\u001b[39;00m \u001b[39mself\u001b[39;49m\u001b[39m.\u001b[39;49m_execute(Command\u001b[39m.\u001b[39;49mGET_ELEMENT_TEXT)[\u001b[39m'\u001b[39m\u001b[39mvalue\u001b[39m\u001b[39m'\u001b[39m]\n",
      "File \u001b[0;32m~/Documents/Codes/Scrapers/env/lib/python3.9/site-packages/selenium/webdriver/remote/webelement.py:396\u001b[0m, in \u001b[0;36mWebElement._execute\u001b[0;34m(self, command, params)\u001b[0m\n\u001b[1;32m    394\u001b[0m     params \u001b[39m=\u001b[39m {}\n\u001b[1;32m    395\u001b[0m params[\u001b[39m'\u001b[39m\u001b[39mid\u001b[39m\u001b[39m'\u001b[39m] \u001b[39m=\u001b[39m \u001b[39mself\u001b[39m\u001b[39m.\u001b[39m_id\n\u001b[0;32m--> 396\u001b[0m \u001b[39mreturn\u001b[39;00m \u001b[39mself\u001b[39;49m\u001b[39m.\u001b[39;49m_parent\u001b[39m.\u001b[39;49mexecute(command, params)\n",
      "File \u001b[0;32m~/Documents/Codes/Scrapers/env/lib/python3.9/site-packages/selenium/webdriver/remote/webdriver.py:435\u001b[0m, in \u001b[0;36mWebDriver.execute\u001b[0;34m(self, driver_command, params)\u001b[0m\n\u001b[1;32m    433\u001b[0m response \u001b[39m=\u001b[39m \u001b[39mself\u001b[39m\u001b[39m.\u001b[39mcommand_executor\u001b[39m.\u001b[39mexecute(driver_command, params)\n\u001b[1;32m    434\u001b[0m \u001b[39mif\u001b[39;00m response:\n\u001b[0;32m--> 435\u001b[0m     \u001b[39mself\u001b[39;49m\u001b[39m.\u001b[39;49merror_handler\u001b[39m.\u001b[39;49mcheck_response(response)\n\u001b[1;32m    436\u001b[0m     response[\u001b[39m'\u001b[39m\u001b[39mvalue\u001b[39m\u001b[39m'\u001b[39m] \u001b[39m=\u001b[39m \u001b[39mself\u001b[39m\u001b[39m.\u001b[39m_unwrap_value(\n\u001b[1;32m    437\u001b[0m         response\u001b[39m.\u001b[39mget(\u001b[39m'\u001b[39m\u001b[39mvalue\u001b[39m\u001b[39m'\u001b[39m, \u001b[39mNone\u001b[39;00m))\n\u001b[1;32m    438\u001b[0m     \u001b[39mreturn\u001b[39;00m response\n",
      "File \u001b[0;32m~/Documents/Codes/Scrapers/env/lib/python3.9/site-packages/selenium/webdriver/remote/errorhandler.py:247\u001b[0m, in \u001b[0;36mErrorHandler.check_response\u001b[0;34m(self, response)\u001b[0m\n\u001b[1;32m    245\u001b[0m         alert_text \u001b[39m=\u001b[39m value[\u001b[39m'\u001b[39m\u001b[39malert\u001b[39m\u001b[39m'\u001b[39m]\u001b[39m.\u001b[39mget(\u001b[39m'\u001b[39m\u001b[39mtext\u001b[39m\u001b[39m'\u001b[39m)\n\u001b[1;32m    246\u001b[0m     \u001b[39mraise\u001b[39;00m exception_class(message, screen, stacktrace, alert_text)  \u001b[39m# type: ignore[call-arg]  # mypy is not smart enough here\u001b[39;00m\n\u001b[0;32m--> 247\u001b[0m \u001b[39mraise\u001b[39;00m exception_class(message, screen, stacktrace)\n",
      "\u001b[0;31mStaleElementReferenceException\u001b[0m: Message: stale element reference: element is not attached to the page document\n  (Session info: chrome=108.0.5359.98)\nStacktrace:\n0   chromedriver                        0x0000000100a83b7c chromedriver + 4209532\n1   chromedriver                        0x0000000100a0f418 chromedriver + 3732504\n2   chromedriver                        0x00000001006c2368 chromedriver + 271208\n3   chromedriver                        0x00000001006c5ee4 chromedriver + 286436\n4   chromedriver                        0x00000001006c5c54 chromedriver + 285780\n5   chromedriver                        0x00000001006c5fb0 chromedriver + 286640\n6   chromedriver                        0x00000001006f75fc chromedriver + 488956\n7   chromedriver                        0x00000001006f1dec chromedriver + 466412\n8   chromedriver                        0x0000000100735804 chromedriver + 743428\n9   chromedriver                        0x00000001006f059c chromedriver + 460188\n10  chromedriver                        0x00000001006f1644 chromedriver + 464452\n11  chromedriver                        0x0000000100a5530c chromedriver + 4018956\n12  chromedriver                        0x0000000100a58fd8 chromedriver + 4034520\n13  chromedriver                        0x0000000100a5f11c chromedriver + 4059420\n14  chromedriver                        0x0000000100a59bac chromedriver + 4037548\n15  chromedriver                        0x0000000100a33bb0 chromedriver + 3881904\n16  chromedriver                        0x0000000100a76120 chromedriver + 4153632\n17  chromedriver                        0x0000000100a76274 chromedriver + 4153972\n18  chromedriver                        0x0000000100a8a82c chromedriver + 4237356\n19  libsystem_pthread.dylib             0x00000001b49e606c _pthread_start + 148\n20  libsystem_pthread.dylib             0x00000001b49e0e2c thread_start + 8\n"
     ]
    }
   ],
   "source": [
    "# open each item and download\n",
    "for item in ids:\n",
    "    print(item.text)\n",
    "    driver.get('https://sellerstats.ru/stat/product/wb/'+ item.text +'/daily/')\n",
    "    sleep(10)\n",
    "    downloadItem()\n",
    "    sleep(5)\n",
    "# print(ids)"
   ]
  }
 ],
 "metadata": {
  "kernelspec": {
   "display_name": "env",
   "language": "python",
   "name": "python3"
  },
  "language_info": {
   "codemirror_mode": {
    "name": "ipython",
    "version": 3
   },
   "file_extension": ".py",
   "mimetype": "text/x-python",
   "name": "python",
   "nbconvert_exporter": "python",
   "pygments_lexer": "ipython3",
   "version": "3.9.13"
  },
  "orig_nbformat": 4,
  "vscode": {
   "interpreter": {
    "hash": "d53a5cd6a450ae934eb9a9405386b29dbfb847c972ef05c28b9b8dc8df248efb"
   }
  }
 },
 "nbformat": 4,
 "nbformat_minor": 2
}
